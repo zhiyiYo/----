{
 "metadata": {
  "language_info": {
   "codemirror_mode": {
    "name": "ipython",
    "version": 3
   },
   "file_extension": ".py",
   "mimetype": "text/x-python",
   "name": "python",
   "nbconvert_exporter": "python",
   "pygments_lexer": "ipython3",
   "version": "3.8.6-final"
  },
  "orig_nbformat": 2,
  "kernelspec": {
   "name": "python386",
   "display_name": "Python 386",
   "language": "python"
  }
 },
 "nbformat": 4,
 "nbformat_minor": 2,
 "cells": [
  {
   "cell_type": "code",
   "execution_count": null,
   "metadata": {},
   "outputs": [],
   "source": [
    "import numpy as np\n",
    "import pandas as pd\n",
    "import matplotlib.pyplot as plt\n",
    "from scipy.stats import zscore\n",
    "from scipy.spatial.distance import pdist, squareform\n",
    "from scipy.cluster.hierarchy import dendrogram, fcluster, linkage\n",
    "\n",
    "plt.style.use('matlab')\n",
    "plt.rcParams['font.family'] = 'sans-serif'\n",
    "plt.rcParams['font.sans-serif'] = ['Microsoft YaHei']"
   ]
  },
  {
   "source": [
    "# 系统聚类法"
   ],
   "cell_type": "markdown",
   "metadata": {}
  },
  {
   "source": [
    "## `例1. 设有五个销售员，他们的销售业绩由销售量和回收款项描述，请对销售员的业绩进行分类。`\n",
    "\n",
    "| 销售员 | $v_1$(销售量)百件 | $v_2$(回收款项)万元 |\n",
    "|:------:|:----------------:|:------------------:|\n",
    "| $w_1$ |         1         |          0         |\n",
    "| $w_2$ |         1         |          1         |\n",
    "| $w_3$ |         3         |          2         |\n",
    "| $w_4$ |         4         |          3         |\n",
    "| $w_5$ |         2         |          5         |"
   ],
   "cell_type": "markdown",
   "metadata": {}
  },
  {
   "cell_type": "code",
   "execution_count": null,
   "metadata": {},
   "outputs": [],
   "source": [
    "data = np.array([[1, 0], [1, 1], [3, 2], [4, 3], [2, 5]])\n",
    "# 打印分类结果\n",
    "T = fcluster(z, 3, 'maxclust')\n",
    "for i in range(1, 4):\n",
    "    tm = np.where(T == i)\n",
    "    print('第{}类的有'.format(i), tm)"
   ]
  },
  {
   "source": [
    "## 求矩阵中的两两绝对值距离"
   ],
   "cell_type": "markdown",
   "metadata": {}
  },
  {
   "cell_type": "code",
   "execution_count": null,
   "metadata": {},
   "outputs": [],
   "source": [
    "distance_vec = pdist(data, 'cityblock')\n",
    "distance_mat = squareform(distance_vec)"
   ]
  },
  {
   "source": [
    "## 使用最小距离法进行分类\n"
   ],
   "cell_type": "markdown",
   "metadata": {}
  },
  {
   "cell_type": "code",
   "execution_count": null,
   "metadata": {},
   "outputs": [],
   "source": [
    "z = linkage(distance_vec)"
   ]
  },
  {
   "source": [
    "## 绘制树形图"
   ],
   "cell_type": "markdown",
   "metadata": {}
  },
  {
   "cell_type": "code",
   "execution_count": null,
   "metadata": {},
   "outputs": [],
   "source": [
    "fig_1, ax_1 = plt.subplots(num='系统聚类法——最小距离法')\n",
    "R = dendrogram(z, labels=['工人1', '工人2',\n",
    "                          '工人3', '工人4', '工人5'])\n",
    "ax_1.set_ylabel('等级')                         "
   ]
  },
  {
   "source": [
    "## 查看分类结果"
   ],
   "cell_type": "markdown",
   "metadata": {}
  },
  {
   "cell_type": "code",
   "execution_count": null,
   "metadata": {},
   "outputs": [],
   "source": [
    "T = fcluster(z, 3, 'maxclust')\n",
    "for i in range(1, 4):\n",
    "    tm = np.where(T == i)\n",
    "    print('第{}类的有'.format(i), tm)"
   ]
  },
  {
   "source": [
    "## `例2. 对我国各地区普通高等教育的发展状况进行聚类分析，明确各类地区普通高等教育发展状况的差异与特点`"
   ],
   "cell_type": "markdown",
   "metadata": {}
  },
  {
   "cell_type": "code",
   "execution_count": null,
   "metadata": {},
   "outputs": [],
   "source": [
    "df_1 = pd.read_excel('resource\\\\我国各地区普通高等教育发展状况数据.xlsx', index_col=0)\n",
    "df_1 = (df_1-df_1.mean())/df_1.std()\n",
    "# 标准化数据\n",
    "# data = zscore(df_1)\n",
    "distances = pdist(df_1)\n",
    "z = linkage(distances)\n",
    "fig_2, ax_2 = plt.subplots(num='系统聚类法——高等教育')\n",
    "dendrogram(z, labels=df_1.index, leaf_font_size=5, leaf_rotation=30)\n",
    "ax_2.set(ylabel='等级', title='我国各地区普通高等教育发展状况聚类')"
   ]
  },
  {
   "source": [
    "# 变量聚类法"
   ],
   "cell_type": "markdown",
   "metadata": {}
  },
  {
   "source": [
    "## `例3. 对例2中的10个教育指标进行聚类分析。`"
   ],
   "cell_type": "markdown",
   "metadata": {}
  },
  {
   "source": [
    "## 最小系数法"
   ],
   "cell_type": "markdown",
   "metadata": {}
  },
  {
   "cell_type": "code",
   "execution_count": null,
   "metadata": {},
   "outputs": [],
   "source": [
    "z = linkage(df_1.corr())\n",
    "R = dendrogram(z, labels=df_1.columns, leaf_font_size=5, leaf_rotation=30)"
   ]
  },
  {
   "source": [
    "## `例4. 在服装标准制定中，对某地成年女子的各部位尺寸进行了统计，通过14个部位的测量资料，获得各因素之间的相关系数表，请对这14个指标进行分类`。"
   ],
   "cell_type": "markdown",
   "metadata": {}
  },
  {
   "source": [
    "## 最大系数法"
   ],
   "cell_type": "markdown",
   "metadata": {}
  },
  {
   "cell_type": "code",
   "execution_count": null,
   "metadata": {},
   "outputs": [],
   "source": [
    "df_1 = pd.read_excel('resource\\\\成年女子各部位相关系数表.xlsx', index_col=0)\n",
    "z = linkage(df_1, 'complete')    # 最大系数法\n",
    "fig_3, ax_3 = plt.subplots(num='变量聚类法——最大系数法')\n",
    "dendrogram(z, labels=df_1.index, leaf_font_size=6, leaf_rotation=0)\n",
    "ax_3.set(ylabel='等级', title='成年女子各部位数据聚类')"
   ]
  },
  {
   "cell_type": "code",
   "execution_count": null,
   "metadata": {},
   "outputs": [],
   "source": []
  }
 ]
}