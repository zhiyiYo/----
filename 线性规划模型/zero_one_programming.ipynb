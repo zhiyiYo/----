{
 "metadata": {
  "language_info": {
   "codemirror_mode": {
    "name": "ipython",
    "version": 3
   },
   "file_extension": ".py",
   "mimetype": "text/x-python",
   "name": "python",
   "nbconvert_exporter": "python",
   "pygments_lexer": "ipython3",
   "version": "3.8.6-final"
  },
  "orig_nbformat": 2,
  "kernelspec": {
   "name": "python386",
   "display_name": "Python 386",
   "language": "python"
  }
 },
 "nbformat": 4,
 "nbformat_minor": 2,
 "cells": [
  {
   "source": [
    "为保证某一设备的正常运转，需备有三种不同的零件 E1、E2、E3。若增加备用零件的数量，可提高设备正常运转的可靠性，但增加了费用，而投资额仅为8000元。已知备用零件数与它的可靠性和费用的关系如下表所示。\n",
    "\n",
    "![表格](resource\\设备运转零件表.jpg)"
   ],
   "cell_type": "markdown",
   "metadata": {}
  },
  {
   "cell_type": "code",
   "execution_count": null,
   "metadata": {},
   "outputs": [],
   "source": [
    "import pulp\n",
    "import numpy as np\n",
    "\n",
    "lp = pulp.LpProblem(sense=pulp.LpMaximize)  # type:pulp.LpProblem\n",
    "\n",
    "E_mat = np.array(\n",
    "    [[pulp.LpVariable(f'x{i}{j}', cat=pulp.LpBinary) for j in range(1, 4)] for i in range(1, 4)])\n",
    "reliability_mat = np.array([[0.3, 0.2, 0.1], [0.4, 0.5, 0.2], [0.5, 0.9, 0.7]])\n",
    "cost_mat = np.array([[1, 3, 2], [2, 5, 3], [3, 6, 4]])\n",
    "\n",
    "# 目标函数\n",
    "lp += (E_mat*reliability_mat).sum()\n",
    "\n",
    "# 约束条件\n",
    "lp += (cost_mat*E_mat).sum() <= 8\n",
    "for i in range(3):\n",
    "    lp += (E_mat[:, i].sum() == 1)\n",
    "\n",
    "# 求解问题\n",
    "lp.solve(pulp.PULP_CBC_CMD(msg=False))\n",
    "\n",
    "print('可以增加的最大可靠性：', pulp.value(lp.objective))\n",
    "for i in range(3):\n",
    "    for j in range(3):\n",
    "        if pulp.value(E_mat[j, i]) != 0:\n",
    "            print(f'E{i+1}的数量为：', [1, 2, 3][j])\n"
   ]
  }
 ]
}