{
 "metadata": {
  "language_info": {
   "codemirror_mode": {
    "name": "ipython",
    "version": 3
   },
   "file_extension": ".py",
   "mimetype": "text/x-python",
   "name": "python",
   "nbconvert_exporter": "python",
   "pygments_lexer": "ipython3",
   "version": "3.8.6-final"
  },
  "orig_nbformat": 2,
  "kernelspec": {
   "name": "python386",
   "display_name": "Python 386",
   "language": "python"
  }
 },
 "nbformat": 4,
 "nbformat_minor": 2,
 "cells": [
  {
   "source": [
    "## 设某工厂有 1000 台机器，生产两种产品 A、B，若投入x台机器生产A产品，则纯收入为5x ，若投入 y 台机器生产B种产品，则纯收入为4y，又知：生产A种产品机器的年折损率为20%，生产B产品机器的年折损率为10%，问在5年内如何安排各年度的生产计划，才能使总收入最高？"
   ],
   "cell_type": "markdown",
   "metadata": {}
  },
  {
   "cell_type": "code",
   "execution_count": null,
   "metadata": {},
   "outputs": [],
   "source": [
    "import pulp\n",
    "import numpy as np\n",
    "\n",
    "lp = pulp.LpProblem(sense=pulp.LpMaximize)  # type:pulp.LpProblem\n",
    "x1_list = [pulp.LpVariable(f'x{i}1', 0) for i in range(1, 6)]\n",
    "x2_list = [pulp.LpVariable(f'x{i}2', 0) for i in range(1, 6)]\n",
    "\n",
    "# 目标函数\n",
    "lp += 5*sum(x1_list)4*sum(x2_list)\n",
    "\n",
    "# 约束条件\n",
    "lp += (x1_list[0]+x2_list[0] <= 1000)\n",
    "for i in range(1, 5):\n",
    "    lp += (x1_list[i]+x2_list[i] <= 0.8*x1_list[i-1]+0.9*x2_list[i-1])\n",
    "\n",
    "# 求解问题\n",
    "lp.solve(pulp.PULP_CBC_CMD(msg=False))\n",
    "print('最优值：', pulp.value(lp.objective))\n",
    "for i in range(5):\n",
    "    print(\n",
    "        f'第{i+1}年中的生产计划：A = {pulp.value(x1_list[i])}台，B = {pulp.value(x2_list[i])}台')"
   ]
  },
  {
   "cell_type": "code",
   "execution_count": null,
   "metadata": {},
   "outputs": [],
   "source": []
  }
 ]
}