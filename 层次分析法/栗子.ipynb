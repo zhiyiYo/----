{
 "cells": [
  {
   "source": [
    "## 某工厂有一笔企业留成利润，需要决定如何分配使用。已经决定有三种用途：奖金、集体福利措施、引进技术设备。考察准则也有三个：是否能调动职工的积极性、是否有利于提高技术水平、考虑改善职工生活条件。建立如下图所示层次模型：\n",
    "![层次结构图](层次结构图.jpg)"
   ],
   "cell_type": "markdown",
   "metadata": {}
  },
  {
   "cell_type": "code",
   "execution_count": 1,
   "metadata": {},
   "outputs": [],
   "source": [
    "import numpy as np\n",
    "from analytic_hierarchy_process import AHP"
   ]
  },
  {
   "cell_type": "code",
   "execution_count": 2,
   "metadata": {},
   "outputs": [
    {
     "name": "stdout",
     "output_type": "stream",
     "text": [
      "最大特征值： 3.0385\n",
      "归一化权重向量： [0.637  0.1047 0.2583]\n",
      "CR = 0.021388888888888877\n",
      "通过一致性检验\n",
      "============================================================\n",
      "最大特征值： 2.0\n",
      "归一化权重向量： [0.25 0.75]\n",
      "CR = 0.0\n",
      "通过一致性检验\n",
      "============================================================\n",
      "最大特征值： 2.0\n",
      "归一化权重向量： [0.1667 0.8333]\n",
      "CR = 0.0\n",
      "通过一致性检验\n",
      "============================================================\n",
      "最大特征值： 2.0\n",
      "归一化权重向量： [0.75 0.25]\n",
      "CR = 0.0\n",
      "通过一致性检验\n",
      "============================================================\n",
      "层次总排序： [0.237775   0.23269488 0.503925  ]\n"
     ]
    }
   ],
   "source": [
    "# 准则层判断矩阵\n",
    "A = np.array([[1, 5, 3],\n",
    "                [1 / 5, 1, 1 / 3],\n",
    "                [1 / 3, 3, 1]])\n",
    "ahp = AHP(A)\n",
    "weightVector_1 = ahp.getWeightVector()\n",
    "# 方案层判断矩阵\n",
    "B1 = np.array([[1, 1/3], [3, 1]])\n",
    "B2 = np.array([[1, 1 / 5], [5, 1]])\n",
    "B3 = np.array([[1, 3], [1 / 3, 1]])\n",
    "weightMat = np.zeros((3, 3))\n",
    "# 与准则无关的方案列表\n",
    "zeroIndex_list = [2, 0, 2]\n",
    "for i in range(len(zeroIndex_list)):\n",
    "    ahp.setJudgetmentMat([B1, B2, B3][i])\n",
    "    weightVector = ahp.getWeightVector()\n",
    "    weightVector = np.insert(weightVector, zeroIndex_list[i], 0)\n",
    "    weightMat[i, :] = weightVector\n",
    "# 层次总排序\n",
    "finalWeightVector = weightMat @ (weightVector_1.T)\n",
    "print('层次总排序：',finalWeightVector)"
   ]
  }
 ],
 "metadata": {
  "kernelspec": {
   "display_name": "Python 386",
   "language": "python",
   "name": "python386"
  },
  "language_info": {
   "codemirror_mode": {
    "name": "ipython",
    "version": 3
   },
   "file_extension": ".py",
   "mimetype": "text/x-python",
   "name": "python",
   "nbconvert_exporter": "python",
   "pygments_lexer": "ipython3",
   "version": "3.8.6-final"
  },
  "nbTranslate": {
   "displayLangs": [
    "*"
   ],
   "hotkey": "alt-t",
   "langInMainMenu": true,
   "sourceLang": "en",
   "targetLang": "fr",
   "useGoogleTranslate": true
  },
  "varInspector": {
   "cols": {
    "lenName": 16,
    "lenType": 16,
    "lenVar": 40
   },
   "kernels_config": {
    "python": {
     "delete_cmd_postfix": "",
     "delete_cmd_prefix": "del ",
     "library": "var_list.py",
     "varRefreshCmd": "print(var_dic_list())"
    },
    "r": {
     "delete_cmd_postfix": ") ",
     "delete_cmd_prefix": "rm(",
     "library": "var_list.r",
     "varRefreshCmd": "cat(var_dic_list()) "
    }
   },
   "types_to_exclude": [
    "module",
    "function",
    "builtin_function_or_method",
    "instance",
    "_Feature"
   ],
   "window_display": false
  }
 },
 "nbformat": 4,
 "nbformat_minor": 2
}