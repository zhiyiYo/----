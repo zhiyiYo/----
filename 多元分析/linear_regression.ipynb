{
 "metadata": {
  "language_info": {
   "codemirror_mode": {
    "name": "ipython",
    "version": 3
   },
   "file_extension": ".py",
   "mimetype": "text/x-python",
   "name": "python",
   "nbconvert_exporter": "python",
   "pygments_lexer": "ipython3",
   "version": "3.8.6-final"
  },
  "orig_nbformat": 2,
  "kernelspec": {
   "name": "python386",
   "display_name": "Python 386"
  }
 },
 "nbformat": 4,
 "nbformat_minor": 2,
 "cells": [
  {
   "cell_type": "code",
   "execution_count": null,
   "metadata": {},
   "outputs": [],
   "source": [
    "import matplotlib.pyplot as plt\n",
    "import numpy as np\n",
    "import pandas as pd\n",
    "from pandas import DataFrame\n",
    "from sklearn.linear_model import LinearRegression\n",
    "from sklearn.model_selection import train_test_split\n",
    "\n",
    "plt.style.use('matlab')"
   ]
  },
  {
   "source": [
    "# 一元线性回归"
   ],
   "cell_type": "markdown",
   "metadata": {}
  },
  {
   "source": [
    "#创建数据集\n",
    "examDict  = {'学习时间':[0.50,0.75,1.00,1.25,1.50,1.75,1.75,\n",
    "                     2.00,2.25,2.50,2.75,3.00,3.25,3.50,4.00,4.25,4.50,4.75,5.00,5.50],\n",
    "             '分数':[10,22,13,43,20,22,33,50,62,\n",
    "                   48,55,75,62,73,81,76,64,82,90,93]}\n",
    " \n",
    "#转换为DataFrame的数据格式\n",
    "examDf = DataFrame(examDict)\n",
    "# 计算数据的相关系数矩阵, 相关系数0~0.3弱相关0.3~0.6中等程度相关0.6~1强相关\n",
    "r = examDf.corr()\n",
    "\n",
    "# 将数据集拆成训练集和测试集\n",
    "x_train, x_test, y_train, y_test = train_test_split(examDf['学习时间'],examDf['分数'],test_size=0.2)"
   ],
   "cell_type": "code",
   "metadata": {},
   "execution_count": null,
   "outputs": []
  },
  {
   "source": [
    "## 创建模型"
   ],
   "cell_type": "markdown",
   "metadata": {}
  },
  {
   "cell_type": "code",
   "execution_count": null,
   "metadata": {},
   "outputs": [],
   "source": [
    "model = LinearRegression()\n",
    "\n",
    "# 将训练数据转换为二维列向量\n",
    "x_train = np.array(x_train).reshape(-1,1)\n",
    "y_train = np.array(y_train).reshape(-1,1)\n",
    "\n",
    "# 训练模型\n",
    "model.fit(x_train, y_train)"
   ]
  },
  {
   "source": [
    "## 查看回归系数"
   ],
   "cell_type": "markdown",
   "metadata": {}
  },
  {
   "cell_type": "code",
   "execution_count": null,
   "metadata": {},
   "outputs": [],
   "source": [
    "print('拟合系数向量 β = ',model.coef_)\n",
    "print('拟合常数项 β0 = ', model.intercept_)"
   ]
  },
  {
   "source": [
    "## 使用模型来预测数据"
   ],
   "cell_type": "markdown",
   "metadata": {}
  },
  {
   "cell_type": "code",
   "execution_count": null,
   "metadata": {},
   "outputs": [],
   "source": [
    "x_test = np.array(x_test).reshape(-1,1)\n",
    "y_train_predict = model.predict(x_train)\n",
    "plt.plot(x_train, y_train_predict, 'b-')\n",
    "plt.scatter(x_train, y_train, color='r')\n",
    "plt.scatter(x_test, y_test, color='b')\n",
    "plt.legend(['best fit', 'train data', 'test data'])"
   ]
  },
  {
   "source": [
    "# 多元线性回归"
   ],
   "cell_type": "markdown",
   "metadata": {}
  },
  {
   "cell_type": "code",
   "execution_count": null,
   "metadata": {},
   "outputs": [],
   "source": [
    "data = pd.read_excel('resource\\产品的销量与广告媒体的投入表.xlsx')\n",
    "tv = data['TV'].values.reshape(-1,1) #type:np.ndarray\n",
    "radio = data['radio'].values.reshape(-1,1) #type:np.ndarray\n",
    "newspaper = data['newspaper'].values.reshape(-1,1) #type:np.ndarray\n",
    "sales = data['sales'].values.reshape(-1,1) #type:np.ndarray\n",
    "\n",
    "# 绘制箱线图，可以看到newspaper中有两个离群点\n",
    "data.boxplot()"
   ]
  },
  {
   "source": [
    "## 计算相关系数矩阵\n",
    "| 相关系数值 | 相关性 |\n",
    "|  :------: | :----: |\n",
    "| 0 ~ 0.3   | 弱相关 |\n",
    "| 0.3 ~ 0.6 | 中等程度相关 |\n",
    "| 0.6 ~ 1   | 强相关 |\n"
   ],
   "cell_type": "markdown",
   "metadata": {}
  },
  {
   "cell_type": "code",
   "execution_count": null,
   "metadata": {},
   "outputs": [],
   "source": [
    "data.corr()"
   ]
  },
  {
   "source": [
    "## 拟合模型"
   ],
   "cell_type": "markdown",
   "metadata": {}
  },
  {
   "cell_type": "code",
   "execution_count": 28,
   "metadata": {},
   "outputs": [
    {
     "output_type": "execute_result",
     "data": {
      "text/plain": [
       "LinearRegression()"
      ]
     },
     "metadata": {},
     "execution_count": 28
    }
   ],
   "source": [
    "x_train = data.iloc[:,:3].values.reshape(-1, 3)\n",
    "y_train = data.iloc[:,3].values.reshape(-1, 1)\n",
    "\n",
    "model = LinearRegression()\n",
    "model.fit(x_train, y_train)"
   ]
  },
  {
   "source": [
    "## 回归系数"
   ],
   "cell_type": "markdown",
   "metadata": {}
  },
  {
   "cell_type": "code",
   "execution_count": 29,
   "metadata": {},
   "outputs": [
    {
     "output_type": "stream",
     "name": "stdout",
     "text": [
      "截距 β0：[2.93888937], 回归系数 β：[[ 0.04576465  0.18853002 -0.00103749]]\n"
     ]
    }
   ],
   "source": [
    "print(f'截距 β0：{model.intercept_}, 回归系数 β：{model.coef_}')"
   ]
  }
 ]
}